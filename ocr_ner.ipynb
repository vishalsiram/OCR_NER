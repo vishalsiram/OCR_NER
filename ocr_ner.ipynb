{
 "cells": [
  {
   "cell_type": "markdown",
   "id": "9820b15c",
   "metadata": {},
   "source": [
    "#### Importing all the modules"
   ]
  },
  {
   "cell_type": "code",
   "execution_count": 57,
   "id": "9b373f67",
   "metadata": {},
   "outputs": [],
   "source": [
    "import cv2\n",
    "import pytesseract\n",
    "import os\n",
    "import pandas as pd\n",
    "import re\n",
    "# for natural language processing: named entity recognition\n",
    "import spacy\n",
    "from collections import Counter\n",
    "import en_core_web_sm"
   ]
  },
  {
   "cell_type": "markdown",
   "id": "a2c12937",
   "metadata": {},
   "source": [
    "#### Set a path for tesseract executable"
   ]
  },
  {
   "cell_type": "code",
   "execution_count": 2,
   "id": "c6f236e0",
   "metadata": {},
   "outputs": [],
   "source": [
    "pytesseract.pytesseract.tesseract_cmd=r'C:/Program Files/Tesseract-OCR/tesseract.exe'"
   ]
  },
  {
   "cell_type": "markdown",
   "id": "4320ca0d",
   "metadata": {},
   "source": [
    "#### Image read"
   ]
  },
  {
   "cell_type": "code",
   "execution_count": 9,
   "id": "15a49a88",
   "metadata": {},
   "outputs": [],
   "source": [
    "img = cv2.imread(\"images/in.jpg\")"
   ]
  },
  {
   "cell_type": "code",
   "execution_count": 10,
   "id": "7744923e",
   "metadata": {},
   "outputs": [
    {
     "data": {
      "text/plain": [
       "array([[[119,  88,  95],\n",
       "        [118,  87,  94],\n",
       "        [117,  86,  93],\n",
       "        ...,\n",
       "        [129,  89,  71],\n",
       "        [130,  90,  72],\n",
       "        [130,  90,  72]],\n",
       "\n",
       "       [[121,  90,  97],\n",
       "        [120,  89,  96],\n",
       "        [119,  88,  95],\n",
       "        ...,\n",
       "        [129,  89,  71],\n",
       "        [129,  89,  71],\n",
       "        [129,  89,  71]],\n",
       "\n",
       "       [[123,  92,  99],\n",
       "        [123,  92,  99],\n",
       "        [121,  90,  97],\n",
       "        ...,\n",
       "        [128,  88,  70],\n",
       "        [128,  88,  70],\n",
       "        [129,  89,  71]],\n",
       "\n",
       "       ...,\n",
       "\n",
       "       [[160, 149, 159],\n",
       "        [160, 149, 159],\n",
       "        [160, 149, 159],\n",
       "        ...,\n",
       "        [106,  86,  81],\n",
       "        [104,  84,  79],\n",
       "        [103,  83,  78]],\n",
       "\n",
       "       [[163, 152, 162],\n",
       "        [163, 152, 162],\n",
       "        [162, 151, 161],\n",
       "        ...,\n",
       "        [104,  84,  79],\n",
       "        [102,  82,  77],\n",
       "        [101,  81,  76]],\n",
       "\n",
       "       [[165, 154, 164],\n",
       "        [164, 153, 163],\n",
       "        [164, 153, 163],\n",
       "        ...,\n",
       "        [103,  83,  78],\n",
       "        [101,  81,  76],\n",
       "        [100,  80,  75]]], dtype=uint8)"
      ]
     },
     "execution_count": 10,
     "metadata": {},
     "output_type": "execute_result"
    }
   ],
   "source": [
    "img"
   ]
  },
  {
   "cell_type": "code",
   "execution_count": 14,
   "id": "1f18fba2",
   "metadata": {},
   "outputs": [
    {
     "data": {
      "text/plain": [
       "''"
      ]
     },
     "execution_count": 14,
     "metadata": {},
     "output_type": "execute_result"
    }
   ],
   "source": [
    "text = pytesseract.image_to_string(img)\n",
    "text"
   ]
  },
  {
   "cell_type": "code",
   "execution_count": 15,
   "id": "e7f29742",
   "metadata": {},
   "outputs": [
    {
     "name": "stdout",
     "output_type": "stream",
     "text": [
      "\n"
     ]
    }
   ],
   "source": [
    "print(text)"
   ]
  },
  {
   "cell_type": "markdown",
   "id": "165e77a3",
   "metadata": {},
   "source": [
    "#### Image to text"
   ]
  },
  {
   "cell_type": "code",
   "execution_count": 17,
   "id": "8e09f6d9",
   "metadata": {},
   "outputs": [
    {
     "name": "stdout",
     "output_type": "stream",
     "text": [
      "“Not in doing what\n",
      "you like, but in liking\n",
      "what you do is the\n",
      "secret of happiness.”\n",
      "—J.M. BARRIE\n",
      "\n"
     ]
    }
   ],
   "source": [
    "img = cv2.imread(\"images/in1.jpg\")\n",
    "img = cv2.resize(img, (400, 450))\n",
    "cv2.imshow(\"Image\", img)\n",
    "text = pytesseract.image_to_string(img)\n",
    "print(text)\n",
    "cv2.waitKey(0)\n",
    "cv2.destroyAllWindows()"
   ]
  },
  {
   "cell_type": "code",
   "execution_count": 21,
   "id": "f418ef8c",
   "metadata": {},
   "outputs": [],
   "source": [
    "import os\n",
    "folderPath = \"images\"\n",
    "myRevList = os.listdir(folderPath)"
   ]
  },
  {
   "cell_type": "code",
   "execution_count": 22,
   "id": "301ecb4e",
   "metadata": {},
   "outputs": [],
   "source": [
    "for image in  myRevList:\n",
    "    img = cv2.imread(f'{folderPath}/{image}')\n",
    "    cv2.imshow(\"Image\", img)\n",
    "    cv2.waitKey(0)\n",
    "    cv2.destroyAllWindows()"
   ]
  },
  {
   "cell_type": "code",
   "execution_count": 23,
   "id": "933e7968",
   "metadata": {},
   "outputs": [
    {
     "data": {
      "text/plain": [
       "['',\n",
       " '“Not in doing what\\nyou like, but in liking\\nwhat you do is the\\nsecret of happiness.”\\n—].M. BARRIE\\n',\n",
       " 'The cheat sheet\\n\\nPssst... Just like Sophie, involve\\nStories of wolves and songs about\\nrobots to explain a grammar lesson...\\nLet your pupils express themselves\\nand make learning inside the\\nclassroom even more fun!\\n\\n',\n",
       " \"I'm sterile. | didn’t say it to my first girlfriend\\nfor a long time because | was afraid she would\\nleave me. But when the truth was revealed,\\nshe actually did. Recently, | met a girl,\\nfell in love with her like crazy, and kept my\\nproblem silent. But yesterday | told her\\neverything. She looked at me and said,\\n\",\n",
       " '\"Storytelling is a contextual\\nbridge between play and\\n\\nwritten narrative.”\\n\\n(Bruner, 1986, 1990; Saracho and Spadek, 2006)\\n\\n',\n",
       " '“Ava uses Special Stories to create a story\\nof her day which we look at when she gets\\nhome. It’s a wonderful way to explore the\\nworld and encourage children to open up\\nabout the way they interact with the\\nenvironment around them.”\\n\\nDenise Wilson-Bainbridge, SENCO\\n',\n",
       " 'Characterize the camera’s\\nability to read international\\nspeed signs\\n\\n']"
      ]
     },
     "execution_count": 23,
     "metadata": {},
     "output_type": "execute_result"
    }
   ],
   "source": [
    "corpus = []\n",
    "for images in myRevList:\n",
    "    img = cv2.imread(f'{folderPath}/{images}')\n",
    "    if img is None:\n",
    "        corpus.append(\"Could not read the image.\")\n",
    "    else:\n",
    "        rev = pytesseract.image_to_string(img)\n",
    "        corpus.append(rev)\n",
    "list(corpus)\n",
    "corpus"
   ]
  },
  {
   "cell_type": "code",
   "execution_count": 25,
   "id": "eaa807c4",
   "metadata": {},
   "outputs": [
    {
     "data": {
      "text/html": [
       "<div>\n",
       "<style scoped>\n",
       "    .dataframe tbody tr th:only-of-type {\n",
       "        vertical-align: middle;\n",
       "    }\n",
       "\n",
       "    .dataframe tbody tr th {\n",
       "        vertical-align: top;\n",
       "    }\n",
       "\n",
       "    .dataframe thead th {\n",
       "        text-align: right;\n",
       "    }\n",
       "</style>\n",
       "<table border=\"1\" class=\"dataframe\">\n",
       "  <thead>\n",
       "    <tr style=\"text-align: right;\">\n",
       "      <th></th>\n",
       "      <th>Review</th>\n",
       "    </tr>\n",
       "  </thead>\n",
       "  <tbody>\n",
       "    <tr>\n",
       "      <th>0</th>\n",
       "      <td></td>\n",
       "    </tr>\n",
       "    <tr>\n",
       "      <th>1</th>\n",
       "      <td>“Not in doing what\\nyou like, but in liking\\nw...</td>\n",
       "    </tr>\n",
       "    <tr>\n",
       "      <th>2</th>\n",
       "      <td>The cheat sheet\\n\\nPssst... Just like Sophie, ...</td>\n",
       "    </tr>\n",
       "    <tr>\n",
       "      <th>3</th>\n",
       "      <td>I'm sterile. | didn’t say it to my first girlf...</td>\n",
       "    </tr>\n",
       "    <tr>\n",
       "      <th>4</th>\n",
       "      <td>\"Storytelling is a contextual\\nbridge between ...</td>\n",
       "    </tr>\n",
       "    <tr>\n",
       "      <th>5</th>\n",
       "      <td>“Ava uses Special Stories to create a story\\no...</td>\n",
       "    </tr>\n",
       "    <tr>\n",
       "      <th>6</th>\n",
       "      <td>Characterize the camera’s\\nability to read int...</td>\n",
       "    </tr>\n",
       "  </tbody>\n",
       "</table>\n",
       "</div>"
      ],
      "text/plain": [
       "                                              Review\n",
       "0                                                   \n",
       "1  “Not in doing what\\nyou like, but in liking\\nw...\n",
       "2  The cheat sheet\\n\\nPssst... Just like Sophie, ...\n",
       "3  I'm sterile. | didn’t say it to my first girlf...\n",
       "4  \"Storytelling is a contextual\\nbridge between ...\n",
       "5  “Ava uses Special Stories to create a story\\no...\n",
       "6  Characterize the camera’s\\nability to read int..."
      ]
     },
     "execution_count": 25,
     "metadata": {},
     "output_type": "execute_result"
    }
   ],
   "source": [
    "\n",
    "data = pd.DataFrame(list(corpus), columns=['Review'])\n",
    "data"
   ]
  },
  {
   "cell_type": "code",
   "execution_count": 26,
   "id": "98298f59",
   "metadata": {},
   "outputs": [
    {
     "data": {
      "text/html": [
       "<div>\n",
       "<style scoped>\n",
       "    .dataframe tbody tr th:only-of-type {\n",
       "        vertical-align: middle;\n",
       "    }\n",
       "\n",
       "    .dataframe tbody tr th {\n",
       "        vertical-align: top;\n",
       "    }\n",
       "\n",
       "    .dataframe thead th {\n",
       "        text-align: right;\n",
       "    }\n",
       "</style>\n",
       "<table border=\"1\" class=\"dataframe\">\n",
       "  <thead>\n",
       "    <tr style=\"text-align: right;\">\n",
       "      <th></th>\n",
       "      <th>Review</th>\n",
       "      <th>Cleaned Review</th>\n",
       "    </tr>\n",
       "  </thead>\n",
       "  <tbody>\n",
       "    <tr>\n",
       "      <th>0</th>\n",
       "      <td></td>\n",
       "      <td></td>\n",
       "    </tr>\n",
       "    <tr>\n",
       "      <th>1</th>\n",
       "      <td>“Not in doing what\\nyou like, but in liking\\nw...</td>\n",
       "      <td>Not in doing what you like  but in liking wha...</td>\n",
       "    </tr>\n",
       "    <tr>\n",
       "      <th>2</th>\n",
       "      <td>The cheat sheet\\n\\nPssst... Just like Sophie, ...</td>\n",
       "      <td>The cheat sheet Pssst  Just like Sophie  invol...</td>\n",
       "    </tr>\n",
       "    <tr>\n",
       "      <th>3</th>\n",
       "      <td>I'm sterile. | didn’t say it to my first girlf...</td>\n",
       "      <td>I m sterile    didn t say it to my first girlf...</td>\n",
       "    </tr>\n",
       "    <tr>\n",
       "      <th>4</th>\n",
       "      <td>\"Storytelling is a contextual\\nbridge between ...</td>\n",
       "      <td>\"Storytelling is a contextual bridge between p...</td>\n",
       "    </tr>\n",
       "    <tr>\n",
       "      <th>5</th>\n",
       "      <td>“Ava uses Special Stories to create a story\\no...</td>\n",
       "      <td>Ava uses Special Stories to create a story of...</td>\n",
       "    </tr>\n",
       "    <tr>\n",
       "      <th>6</th>\n",
       "      <td>Characterize the camera’s\\nability to read int...</td>\n",
       "      <td>Characterize the camera s ability to read inte...</td>\n",
       "    </tr>\n",
       "  </tbody>\n",
       "</table>\n",
       "</div>"
      ],
      "text/plain": [
       "                                              Review  \\\n",
       "0                                                      \n",
       "1  “Not in doing what\\nyou like, but in liking\\nw...   \n",
       "2  The cheat sheet\\n\\nPssst... Just like Sophie, ...   \n",
       "3  I'm sterile. | didn’t say it to my first girlf...   \n",
       "4  \"Storytelling is a contextual\\nbridge between ...   \n",
       "5  “Ava uses Special Stories to create a story\\no...   \n",
       "6  Characterize the camera’s\\nability to read int...   \n",
       "\n",
       "                                      Cleaned Review  \n",
       "0                                                     \n",
       "1   Not in doing what you like  but in liking wha...  \n",
       "2  The cheat sheet Pssst  Just like Sophie  invol...  \n",
       "3  I m sterile    didn t say it to my first girlf...  \n",
       "4  \"Storytelling is a contextual bridge between p...  \n",
       "5   Ava uses Special Stories to create a story of...  \n",
       "6  Characterize the camera s ability to read inte...  "
      ]
     },
     "execution_count": 26,
     "metadata": {},
     "output_type": "execute_result"
    }
   ],
   "source": [
    "#removing special characters\n",
    "\n",
    "def clean(text):\n",
    "    return re.sub('[^A-Za-z0-9\" \"]+', ' ', text)\n",
    "data['Cleaned Review'] = data['Review'].apply(clean)\n",
    "data"
   ]
  },
  {
   "cell_type": "code",
   "execution_count": 28,
   "id": "0850f7a9",
   "metadata": {},
   "outputs": [
    {
     "data": {
      "text/plain": [
       "0                                                     \n",
       "1     Not in doing what you like  but in liking wha...\n",
       "2    The cheat sheet Pssst  Just like Sophie  invol...\n",
       "3    I m sterile    didn t say it to my first girlf...\n",
       "4    \"Storytelling is a contextual bridge between p...\n",
       "5     Ava uses Special Stories to create a story of...\n",
       "6    Characterize the camera s ability to read inte...\n",
       "Name: Cleaned Review, dtype: object"
      ]
     },
     "execution_count": 28,
     "metadata": {},
     "output_type": "execute_result"
    }
   ],
   "source": [
    "data['Cleaned Review']"
   ]
  },
  {
   "cell_type": "code",
   "execution_count": 45,
   "id": "8a96b0a9",
   "metadata": {},
   "outputs": [],
   "source": [
    "# for manipulating dataframes\n",
    "import pandas as pd\n",
    "\n",
    "# for visualizations\n",
    "#%matplotlib inline"
   ]
  },
  {
   "cell_type": "markdown",
   "id": "6172088b",
   "metadata": {},
   "source": [
    "#### NER"
   ]
  },
  {
   "cell_type": "code",
   "execution_count": 51,
   "id": "5323f3c5",
   "metadata": {},
   "outputs": [
    {
     "data": {
      "text/plain": [
       "['', ' Not in doing what you like  but in liking what you do is the secret of happiness M  BARRIE ', 'The cheat sheet Pssst  Just like Sophie  involve Stories of wolves and songs about robots to explain a grammar lesson Let your pupils express themselves and make learning inside the classroom even more fun ', 'I m sterile    didn t say it to my first girlfriend for a long time because   was afraid she would leave me  But when the truth was revealed she actually did  Recently    met a girl fell in love with her like crazy  and kept my problem silent  But yesterday   told her everything  She looked at me and said ', '\"Storytelling is a contextual bridge between play and written narrative Bruner  1986  1990  Saracho and Spadek  2006 ', ' Ava uses Special Stories to create a story of her day which we look at when she gets home  It s a wonderful way to explore the world and encourage children to open up about the way they interact with the environment around them Denise Wilson Bainbridge  SENCO ', 'Characterize the camera s ability to read international speed signs ']"
      ]
     },
     "execution_count": 51,
     "metadata": {},
     "output_type": "execute_result"
    }
   ],
   "source": [
    "tokens = nlp(''.join(str(data['Cleaned Review'].tolist())))\n",
    "tokens"
   ]
  },
  {
   "cell_type": "code",
   "execution_count": 52,
   "id": "d69fc528",
   "metadata": {},
   "outputs": [
    {
     "data": {
      "text/plain": [
       "[('Sophie', 1),\n",
       " ('first', 1),\n",
       " ('yesterday', 1),\n",
       " ('Storytelling', 1),\n",
       " ('Bruner', 1),\n",
       " ('1986  1990', 1),\n",
       " ('Saracho', 1),\n",
       " ('Spadek', 1),\n",
       " ('2006', 1),\n",
       " ('Denise Wilson Bainbridge', 1)]"
      ]
     },
     "execution_count": 52,
     "metadata": {},
     "output_type": "execute_result"
    }
   ],
   "source": [
    "items = [x.text for x in tokens.ents]\n",
    "Counter(items).most_common(20)"
   ]
  },
  {
   "cell_type": "code",
   "execution_count": 53,
   "id": "8bdb1cf9",
   "metadata": {},
   "outputs": [],
   "source": [
    "person_list = []\n",
    "for ent in tokens.ents:\n",
    "    if ent.label_ == 'PERSON':\n",
    "        person_list.append(ent.text)\n",
    "        \n",
    "person_counts = Counter(person_list).most_common(20)\n",
    "df_person = pd.DataFrame(person_counts, columns =['text', 'count'])"
   ]
  },
  {
   "cell_type": "code",
   "execution_count": 54,
   "id": "70f5d354",
   "metadata": {},
   "outputs": [
    {
     "data": {
      "text/html": [
       "<div>\n",
       "<style scoped>\n",
       "    .dataframe tbody tr th:only-of-type {\n",
       "        vertical-align: middle;\n",
       "    }\n",
       "\n",
       "    .dataframe tbody tr th {\n",
       "        vertical-align: top;\n",
       "    }\n",
       "\n",
       "    .dataframe thead th {\n",
       "        text-align: right;\n",
       "    }\n",
       "</style>\n",
       "<table border=\"1\" class=\"dataframe\">\n",
       "  <thead>\n",
       "    <tr style=\"text-align: right;\">\n",
       "      <th></th>\n",
       "      <th>text</th>\n",
       "      <th>count</th>\n",
       "    </tr>\n",
       "  </thead>\n",
       "  <tbody>\n",
       "    <tr>\n",
       "      <th>0</th>\n",
       "      <td>Denise Wilson Bainbridge</td>\n",
       "      <td>1</td>\n",
       "    </tr>\n",
       "  </tbody>\n",
       "</table>\n",
       "</div>"
      ],
      "text/plain": [
       "                       text  count\n",
       "0  Denise Wilson Bainbridge      1"
      ]
     },
     "execution_count": 54,
     "metadata": {},
     "output_type": "execute_result"
    }
   ],
   "source": [
    "df_person"
   ]
  },
  {
   "cell_type": "code",
   "execution_count": null,
   "id": "217f5273",
   "metadata": {},
   "outputs": [],
   "source": []
  }
 ],
 "metadata": {
  "kernelspec": {
   "display_name": "Python 3 (ipykernel)",
   "language": "python",
   "name": "python3"
  },
  "language_info": {
   "codemirror_mode": {
    "name": "ipython",
    "version": 3
   },
   "file_extension": ".py",
   "mimetype": "text/x-python",
   "name": "python",
   "nbconvert_exporter": "python",
   "pygments_lexer": "ipython3",
   "version": "3.10.8"
  }
 },
 "nbformat": 4,
 "nbformat_minor": 5
}
